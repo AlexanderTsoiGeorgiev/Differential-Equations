{
 "cells": [
  {
   "cell_type": "code",
   "execution_count": null,
   "metadata": {},
   "outputs": [],
   "source": []
  },
  {
   "cell_type": "markdown",
   "metadata": {},
   "source": [
    "# Differential Equations and Their Usecases"
   ]
  },
  {
   "cell_type": "markdown",
   "metadata": {},
   "source": [
    "## Table of Contents\n",
    " 1. Introduction to Differential Equations\n",
    "    1. Definition\n",
    "    2. Examples of Differential Equations\n",
    "    3. Slope Field\n",
    " 2. Classification of Differential Equations\n",
    "    1. Order of Differential Equation\n",
    "    2. Ordinary and Partial Differential Equations \n",
    "    3. Linear and Non-linear Differential Equations \n",
    "    4. Homogeneous and Non-homogeneous Differential Equations\n",
    " 3. Ordinary Differential Equations\n",
    "    1. Separable Differential Equation\n",
    " 4. Partial Differential Equations\n",
    " 5. Bibliography\n",
    " 6. References"
   ]
  },
  {
   "cell_type": "markdown",
   "metadata": {},
   "source": [
    "## 1. Introduction to Differential Equations\n",
    "\n",
    "### Definition:\n",
    "At their core Differential Equations(DEs) are equations in which there might be variables as well as ***functions*** of those variables and the **derivatives** of said ***functions***$ ^{[1]} $. The crucial part of a DE and where it gets its name from is the presence of **derivatives** of unknown ***functions***. In practice, the ***functions*** within these equations most commonly represent physical quantities, while their **derivatives** are their rate of change. The DEs relate the ***functions*** to their **derivatives**$ ^{[2]} $. It is important to realize that the wanted result is a ***function*** or a class of ***functions*** instead of a concrete value or a set of values which is the case with algebraic equations. DEs allow us to model the material world around us in mathematical terms, they have proved to be irreplaceable when it comes to **physics**, **engineering**, **economics** and *more*$ ^{[2]} $.\n",
    "\n",
    "### Examples of Differential Equations\n",
    "Definitions can often be quite vague so now let's look at some examples of what different types DEs look like. Interpreting what DEs express can be difficult so we will warm up with something very easy.\n",
    "\n",
    "Leibniz's notation\n",
    "$$ \\frac{df(x)}{dx} = f(x) $$\n",
    "$$ \\frac{dy}{dx} = f(x) $$\n",
    "\n",
    "Lagrange's notation\n",
    "$$ f'(x) = f(x) $$\n",
    "\n",
    "Newton's notation\n",
    "$$ \\dot y = y$$\n",
    "$$ y' = y $$\n",
    "\n",
    "Essentially all four of these represent the same DE. The only difference is the notation they use. In reality the last notation is the most commonly used when it comes to DEs as it is the most concise and neat. Usually in literature the dot symbol in $ \\dot y $ represents $ \\frac{dy}{dt} $ while the prime symbol notation $ y' $ represents $ \\frac{dy}{dx} $, we will discuss the difference between the two later on. This, however, does not mean that the rest of the notations are not used as they have their use cases as well. Something to note is that $y \\equiv y(x)$, which means that $y$ denotes a function, not to be confused with a variable. Well, this particular problem is very reminiscent of the exponential function $e^x$ and one, through intuition, might guess the solution. However, simply guessing that $y = e^x$ is the solution does not paint the full picture as it is only one of the infinitely many solutions. In reality the correct solution would be $ y = Ce^x $, where $ C $ is an any arbitrary constant. We will look into the solution later on. For now let's look into some more examples.\n",
    "\n",
    "(1) $$ 2y' = \\frac{sin(x)}{y^3} $$\n",
    "(2) $$ y' = f(x, y) $$\n",
    "(3) $$ y'' + y' + 6x = 5 $$\n",
    "(4) $$ y'' = -g $$\n",
    "(5) $$ 8y^{IV} + 6y''' + 12 y'' -4y' + 2y = cos(x) $$\n",
    "(6) $$ sin(y) \\cdot y'' = (1-y) \\cdot y' + y^2 \\cdot e^{-5y}$$\n",
    "(7) $$ y' + \\frac{3}{2x+1}y = \\frac{2x-2}{\\sqrt{y}} $$\n",
    "\n",
    "All of the examples above are the so called Ordinary Differential Equations(ODUs), however they are not the only type as there are Partial Differential Equations(PDEs) which are more complex and difficult. Let's check them out.\n",
    "\n",
    "***TODO:*** Add examples\n",
    "(7) $$  $$\n",
    "\n",
    "***TODO:***: Add notes about examples\n",
    "\n",
    "***TODO:*** Add definition for independent variables\n",
    "\n",
    "***TODO:*** Add definition for dependent variables\n",
    "\n",
    "***TODO:*** Add definition for initial conditions"
   ]
  },
  {
   "cell_type": "markdown",
   "metadata": {},
   "source": [
    "### 2. Classification of Differential Equations \n",
    "\n",
    "### Order of Differential Equations\n",
    "The order of the DE is determined by the highest order derivative present in the equation. We can see that (1), (2) are first order while (3) is second order and (4) is fourth order and so on. It turns out that most commonly DEs of second order are used in practice.\n",
    "\n",
    "### Ordinary and Partial Differential Equations\n",
    "DEs are most commonly divided into two groups between Ordinary Differential Equations(ODE) and Partial Differential Equations(PDE). Whether a DE is ODE or PDE depends on the presence of *partial derivatives*. Partial derivatives can occur only when there are more than one independent variables. By definition ODEs contain **only one independent** variable and **at least one derivative** with respect to that variable $^{[4]}$, while PDEs contain partial derivatives of the dependant variable with respect to **more than one** independent variable $^{[5]}$. In practice PDEs are much harder to solve than ODEs, however, PDEs are used to describe much more intricate systems such as *fluid dynamics*, *heat transfer*, *image processing* and more $ ^{[6]} $.\n",
    "\n",
    "### Linear and Non-linear Differential Equations\n",
    "Just like in algebraic equations linear DEs are great as they are much easier to solve and are often preferred. What makes a DE linear is not exactly clear. One DE is considered linear when it satisfies the following form: \n",
    "\n",
    "$$ a_n(x)y^{n} + a_{n-1}(x)y^{n-1} + \\dotsm + a_1(x)y' + a_0(x)y = f(x) $$ \n",
    "\n",
    "Some notes about the linear form are that $ n $ is the order of the derivative and of course just a reminder $ y \\equiv y(x) $. What is more important is noticing that neither the function $ y $ nor its derivatives are to a power higher than one and they are not part of any other non-linear functions and that every $ x $ can be either a zero or non-zero and linear or non-linear functions $^{[6]}$. Something of note as well is that the linear form of DEs is very reminiscent of the form of polynomials, which is of course:\n",
    "\n",
    "$$ a_nx^n + a_{n-1}x^{n-1} + \\dotsm + a_1x + a_0 = f(x) $$\n",
    "\n",
    "Having both forms side by side makes the similarities evident. \n",
    "Since we now have defined what a linear DE is any DE which does not satisfy the given form above can be considered non-linear.\n",
    "\n",
    "### Homogeneous and Non-homogeneous\n",
    "Homogeneous DE are linear DEs, whose $ f(x) = 0 $, any linear DEs, whose $ f(x) \\neq 0 $ is called non-homogeneous or inhomogeneous. "
   ]
  },
  {
   "cell_type": "markdown",
   "metadata": {},
   "source": [
    "### 3. Ordinary Differential Equations\n",
    "\n",
    "#### Separable Differential Equations\n",
    " "
   ]
  },
  {
   "cell_type": "markdown",
   "metadata": {},
   "source": [
    "## Bibliography\n",
    "1. "
   ]
  },
  {
   "cell_type": "markdown",
   "metadata": {},
   "source": [
    "## References\n",
    "1. [BYJUS](https://byjus.com/maths/differential-equation/)\n",
    "2. [Differential Equations Wikipeadia](https://en.wikipedia.org/wiki/Differential_equation)\n",
    "3. [Ordinary Differential Equations  BYJUS](https://byjus.com/maths/ordinary-differential-equations/)\n",
    "4. [Partial Differential Equations BYJUS](https://byjus.com/maths/partial-differential-equation/)\n",
    "5. [Applications of Partial Differential Equations in Engineering field](https://www.linkedin.com/pulse/applications-partial-differential-equations-field-geetha-muthu)\n",
    "6. [Paul's Online Notes](https://tutorial.math.lamar.edu/classes/de/de.aspx)"
   ]
  }
 ],
 "metadata": {
  "kernelspec": {
   "display_name": "base",
   "language": "python",
   "name": "python3"
  },
  "language_info": {
   "name": "python",
   "version": "3.11.7"
  }
 },
 "nbformat": 4,
 "nbformat_minor": 2
}
