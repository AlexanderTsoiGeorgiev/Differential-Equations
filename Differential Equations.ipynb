{
 "cells": [
  {
   "cell_type": "code",
   "execution_count": null,
   "metadata": {},
   "outputs": [],
   "source": []
  },
  {
   "cell_type": "markdown",
   "metadata": {},
   "source": [
    "# Differential Equations and Their Usecases"
   ]
  },
  {
   "cell_type": "markdown",
   "metadata": {},
   "source": [
    "## Table of Contents\n",
    " 1. Introduction to Differential Equations\n",
    "    1. Definition\n",
    "    2. Examples of Differential Equations\n",
    "    3. Order of Differential Equations\n",
    "    4. Slope Field\n",
    " 2. Ordinary Differential Equations\n",
    " 3. Partial Differential Equations\n",
    " 4. Bibliography\n",
    " 5. References"
   ]
  },
  {
   "cell_type": "markdown",
   "metadata": {},
   "source": [
    "## 1. Introduction to Differential Equations\n",
    "\n",
    "### Definition:\n",
    "At their core Differential Equations(DEs) are equations in which there might be variables as well as ***functions*** of those variables and the **derivatives** of said ***functions***$ ^{[1]} $. The crucial part of a DE and where it gets its name from is the presence of **derivatives** of unknown ***functions***. In practice, the ***functions*** within these equations most commonly represent physical quantities, while their **derivatives** are their rate of change. The DEs relate the ***functions*** to their **derivatives**$ ^{[2]} $. It is important to realize that the wanted result is a ***function*** or a class of ***functions*** instead of a concrete value or a set of values which is the case with algebraic equations. DEs allow us to model the material world around us in mathematical terms, they have proved to be irreplaceable when it comes to **physics**, **engineering**, **economics** and *more*$ ^{[2]} $.\n",
    "\n",
    "### Examples of Differential Equations\n",
    "Definitions can often be quite vague so now let's look at some examples of what different types DEs look like. Interpreting what DEs express can be difficult so we will warm up with something very easy.\n",
    "\n",
    "Leibniz's notation\n",
    "$$ \\frac{df(x)}{dx} = f(x) $$\n",
    "$$ \\frac{dy}{dx} = f(x) $$\n",
    "\n",
    "Lagrange's notation\n",
    "$$ f'(x) = f(x) $$\n",
    "\n",
    "Newton's notation\n",
    "$$ \\dot y = y$$\n",
    "$$ y' = y $$\n",
    "\n",
    "Essentially all four of these represent the same DE. The only difference is the notation they use. In reality the last notation is the most commonly used when it comes to DEs as it is the most concise and neat. Usually in literature the dot symbol in $ \\dot y $ represents $ \\frac{dy}{dt} $ while the prime symbol notation $ y' $ represents $ \\frac{dy}{dx} $, we will discuss the difference between the two later on. This, however, does not mean that the rest of the notations are not used as they have their use cases as well. Something to note is that $y \\equiv y(x)$, which means that $y$ denotes a function, not to be confused with a variable. Well, this particular problem is very reminiscent of the exponential function $e^x$ and one, through intuition, might guess the solution. However, simply guessing that $y = e^x$ is the solution does not paint the full picture as it is only one of the infinitely many solutions. In reality the correct solution would be $ y = Ce^x $, where $ C $ is an any arbitrary constant. We will look into the solution later on. For now let's look into some more examples.\n",
    "\n",
    "(1) $$ 2y' = \\frac{sin(x)}{y^3} $$\n",
    "(2) $$ y' = f(x, y) $$\n",
    "(3) $$ y'' + y' + 6x = 5 $$\n",
    "(4) $$ y'' = -g $$\n",
    "(5) $$ 8y^{IV} + 6y''' + 12 y'' -4y' + 2y = cos(x) $$\n",
    "(6) $$ sin(y) \\cdot y'' = (1-y) \\cdot y' + y^2 \\cdot e^{-5y}$$\n",
    "(7) $$ y' + \\frac{3}{2x+1}y = \\frac{2x-2}{\\sqrt{y}} $$\n",
    "\n",
    "All of the examples above are the so called Ordinary Differential Equations(ODUs), however they are not the only type as there are Partial Differential Equations(PDEs) which are more complex and difficult. Let's check them out.\n",
    "\n",
    "***TODO:*** Add examples\n",
    "(7) $$  $$\n",
    "\n",
    "### Order of Differential Equations\n",
    "The order of the DE is determined by the highest order derivative present in the equation. We can see that (1), (2) are first order while (3) is second order and (4) is fourth order and so on. It turns out that most commonly DEs of second order are used in practice."
   ]
  },
  {
   "cell_type": "markdown",
   "metadata": {},
   "source": [
    "## Bibliography\n",
    "1. sgsgd"
   ]
  },
  {
   "cell_type": "markdown",
   "metadata": {},
   "source": [
    "## References\n",
    "1. [BYJUS](https://byjus.com/maths/differential-equation/)\n",
    "2. [Wikipeadia](https://en.wikipedia.org/wiki/Differential_equation)\n",
    "3. [Paul's Online Notes](https://tutorial.math.lamar.edu/classes/de/de.aspx)"
   ]
  }
 ],
 "metadata": {
  "kernelspec": {
   "display_name": "base",
   "language": "python",
   "name": "python3"
  },
  "language_info": {
   "name": "python",
   "version": "3.11.7"
  }
 },
 "nbformat": 4,
 "nbformat_minor": 2
}
